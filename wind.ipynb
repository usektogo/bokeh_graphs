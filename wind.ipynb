{
 "cells": [
  {
   "cell_type": "code",
   "execution_count": 13,
   "id": "650aa824",
   "metadata": {},
   "outputs": [],
   "source": [
    "# Making a basic Bokeh line graph\n",
    "\n",
    "#importing Bokeh and Pandas\n",
    "from bokeh.plotting import figure\n",
    "from bokeh.io import output_file, show\n",
    "import pandas as pd\n",
    "import openpyxl\n",
    "\n",
    "#prepare some data\n",
    "df=pd.read_excel('wind.xlsx', sheet_name=0)\n",
    "x=df['x']\n",
    "y=df['y']\n",
    "\n",
    "#prepare the output file\n",
    "output_file(\"wind.html\")\n",
    "#output_file(\"triangle.html\")\n",
    "#output_file(\"Circle.html\")\n",
    "\n",
    "#create a figure object\n",
    "#f=figure(plot_width=500,plot_height=400, tools='pan',logo=None)\n",
    "f=figure(plot_width=500, plot_height=400, tools='pan, box_zoom, save')\n",
    "f.title.text=\"Proizvodnja energije\"\n",
    "f.title.text_color=\"Black\"\n",
    "f.title.text_font=\"ariel\"\n",
    "f.title.text_font_style=\"bold\"\n",
    "f.title.text_font_size=\"20pt\"\n",
    "f.xaxis.minor_tick_line_color='Grey'\n",
    "f.yaxis.minor_tick_line_color='Grey'\n",
    "f.xaxis.axis_label=\"hitrost vetra m/s\"\n",
    "f.yaxis.axis_label=\"električna moč na sponkah generatorja v kW\" \n",
    "\n",
    "#create line plot\n",
    "f.line(x, y)\n",
    "f.circle(x, y, fill_color=\"grey\", size=5)\n",
    "#f.triangle(x, y)\n",
    "#f.circle(x, y)\n",
    "\n",
    "show(f)"
   ]
  },
  {
   "cell_type": "code",
   "execution_count": null,
   "id": "2bfd179d",
   "metadata": {},
   "outputs": [],
   "source": []
  },
  {
   "cell_type": "code",
   "execution_count": null,
   "id": "afabc1e3",
   "metadata": {},
   "outputs": [],
   "source": []
  }
 ],
 "metadata": {
  "kernelspec": {
   "display_name": "Python 3 (ipykernel)",
   "language": "python",
   "name": "python3"
  },
  "language_info": {
   "codemirror_mode": {
    "name": "ipython",
    "version": 3
   },
   "file_extension": ".py",
   "mimetype": "text/x-python",
   "name": "python",
   "nbconvert_exporter": "python",
   "pygments_lexer": "ipython3",
   "version": "3.9.12"
  }
 },
 "nbformat": 4,
 "nbformat_minor": 5
}
